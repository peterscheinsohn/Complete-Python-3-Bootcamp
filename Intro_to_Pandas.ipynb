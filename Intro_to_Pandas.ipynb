{
  "nbformat": 4,
  "nbformat_minor": 0,
  "metadata": {
    "colab": {
      "provenance": [],
      "toc_visible": true,
      "include_colab_link": true
    },
    "kernelspec": {
      "name": "python3",
      "display_name": "Python 3"
    },
    "language_info": {
      "name": "python"
    }
  },
  "cells": [
    {
      "cell_type": "markdown",
      "metadata": {
        "id": "view-in-github",
        "colab_type": "text"
      },
      "source": [
        "<a href=\"https://colab.research.google.com/github/peterscheinsohn/Complete-Python-3-Bootcamp/blob/master/Intro_to_Pandas.ipynb\" target=\"_parent\"><img src=\"https://colab.research.google.com/assets/colab-badge.svg\" alt=\"Open In Colab\"/></a>"
      ]
    },
    {
      "cell_type": "markdown",
      "source": [
        "#Intro to Pandas\n",
        "\n",
        "Let's import Pandas and explore the Series object.\n",
        "\n",
        "A Series is very similar to a NumPy array (in fact it is built on top of the NumPy array object). What differentiates the NumPy array from a Series, is that a Series can have axis labels, meaning it can be indexed by a label, instead of just a number location. It also doesn't need to hold numeric data, it can hold any arbitrary Python Object.\n"
      ],
      "metadata": {
        "id": "GWoPrrtNfyzT"
      }
    },
    {
      "cell_type": "code",
      "execution_count": null,
      "metadata": {
        "id": "CH71bzcldvCS"
      },
      "outputs": [],
      "source": []
    },
    {
      "cell_type": "markdown",
      "source": [
        "## Creating a Series\n",
        "\n",
        "You can convert a list,numpy array, or dictionary to a Series:"
      ],
      "metadata": {
        "id": "7zylGnVXg1U6"
      }
    },
    {
      "cell_type": "markdown",
      "source": [
        "**Using Lists**"
      ],
      "metadata": {
        "id": "Hgif8EvGg_Ah"
      }
    },
    {
      "cell_type": "code",
      "source": [],
      "metadata": {
        "id": "T8L_DoZrgmWr"
      },
      "execution_count": null,
      "outputs": []
    },
    {
      "cell_type": "code",
      "source": [],
      "metadata": {
        "id": "fkN0MN8XgmSr"
      },
      "execution_count": null,
      "outputs": []
    },
    {
      "cell_type": "code",
      "source": [],
      "metadata": {
        "id": "0A6w90iohJCR"
      },
      "execution_count": null,
      "outputs": []
    },
    {
      "cell_type": "markdown",
      "source": [
        "###NumPy Arrays"
      ],
      "metadata": {
        "id": "UJKPNdQyhPQD"
      }
    },
    {
      "cell_type": "code",
      "source": [],
      "metadata": {
        "id": "NQKDYxDmhI_O"
      },
      "execution_count": null,
      "outputs": []
    },
    {
      "cell_type": "code",
      "source": [],
      "metadata": {
        "id": "0cZl04xjhI7i"
      },
      "execution_count": null,
      "outputs": []
    },
    {
      "cell_type": "markdown",
      "source": [
        "###Dictionary"
      ],
      "metadata": {
        "id": "miFKU1y5haWj"
      }
    },
    {
      "cell_type": "code",
      "source": [],
      "metadata": {
        "id": "cDbb4iZghI4b"
      },
      "execution_count": null,
      "outputs": []
    },
    {
      "cell_type": "markdown",
      "source": [
        "### Data in a Series\n",
        "\n",
        "A pandas Series can hold a variety of object types:"
      ],
      "metadata": {
        "id": "wWDZE-zKhhX_"
      }
    },
    {
      "cell_type": "code",
      "source": [],
      "metadata": {
        "id": "fqLqebzEhXSE"
      },
      "execution_count": null,
      "outputs": []
    },
    {
      "cell_type": "code",
      "source": [],
      "metadata": {
        "id": "A76qdnsjhXN-"
      },
      "execution_count": null,
      "outputs": []
    },
    {
      "cell_type": "code",
      "source": [],
      "metadata": {
        "id": "B3cfsWmpqZSd"
      },
      "execution_count": null,
      "outputs": []
    },
    {
      "cell_type": "code",
      "source": [],
      "metadata": {
        "id": "CEQIutA_qZPc"
      },
      "execution_count": null,
      "outputs": []
    },
    {
      "cell_type": "markdown",
      "source": [
        "### Using an Index\n",
        "\n",
        "The key to using a Series is understanding its index. Pandas makes use of these index names or numbers by allowing for fast look ups of information (works like a hash table or dictionary).\n",
        "\n",
        "Let's see some examples of how to grab information from a Series. Let us create two sereis, ser1 and ser2:"
      ],
      "metadata": {
        "id": "tsyFvAu9hrlL"
      }
    },
    {
      "cell_type": "code",
      "source": [],
      "metadata": {
        "id": "28H68SXDhXKl"
      },
      "execution_count": null,
      "outputs": []
    },
    {
      "cell_type": "code",
      "source": [],
      "metadata": {
        "id": "-8vGe7Ekhzt8"
      },
      "execution_count": null,
      "outputs": []
    },
    {
      "cell_type": "code",
      "source": [],
      "metadata": {
        "id": "P6n7aO5ChXHZ"
      },
      "execution_count": null,
      "outputs": []
    },
    {
      "cell_type": "code",
      "source": [],
      "metadata": {
        "id": "gEm9GaXdZI4r"
      },
      "execution_count": null,
      "outputs": []
    },
    {
      "cell_type": "markdown",
      "source": [
        "Operations are then also done based off of index:"
      ],
      "metadata": {
        "id": "KsWDyM_Bh9Ex"
      }
    },
    {
      "cell_type": "code",
      "source": [
        "ser1 + ser2"
      ],
      "metadata": {
        "id": "AHZgTLRchnx3"
      },
      "execution_count": null,
      "outputs": []
    },
    {
      "cell_type": "markdown",
      "source": [
        "# NumPy\n",
        "\n",
        "NumPy (or Numpy) is a Linear Algebra Library for Python, the reason it is so important for Data Science with Python is that almost all of the libraries in the PyData Ecosystem rely on NumPy as one of their main building blocks.\n",
        "\n",
        "Numpy is also incredibly fast, as it has bindings to C libraries."
      ],
      "metadata": {
        "id": "M-XT8iTjjc0w"
      }
    },
    {
      "cell_type": "markdown",
      "source": [
        "### Creating NumPy Arrays\n",
        "\n",
        "From a Python List\n",
        "\n",
        "We can create an array by directly converting a list or list of lists:"
      ],
      "metadata": {
        "id": "jVFbnPKcj-JL"
      }
    },
    {
      "cell_type": "code",
      "source": [],
      "metadata": {
        "id": "3RhnDY2hhnuS"
      },
      "execution_count": null,
      "outputs": []
    },
    {
      "cell_type": "code",
      "source": [],
      "metadata": {
        "id": "QB_amXZHkJKM"
      },
      "execution_count": null,
      "outputs": []
    },
    {
      "cell_type": "code",
      "source": [],
      "metadata": {
        "id": "OsHaZxwhkSvP"
      },
      "execution_count": null,
      "outputs": []
    },
    {
      "cell_type": "markdown",
      "source": [
        "### Built-in Methods\n",
        "There are lots of built-in ways to generate Arrays\n",
        "**From arange**\n",
        "Return evenly spaced values within a given interval."
      ],
      "metadata": {
        "id": "iZTTd4kCk1KG"
      }
    },
    {
      "cell_type": "code",
      "source": [],
      "metadata": {
        "id": "NlobocrSkSsO"
      },
      "execution_count": null,
      "outputs": []
    },
    {
      "cell_type": "code",
      "source": [],
      "metadata": {
        "id": "zDTnVao6lc1d"
      },
      "execution_count": null,
      "outputs": []
    },
    {
      "cell_type": "code",
      "source": [],
      "metadata": {
        "id": "TEJsbNMJlcyF"
      },
      "execution_count": null,
      "outputs": []
    },
    {
      "cell_type": "markdown",
      "source": [
        "### Random\n",
        "\n",
        "Numpy also has lots of ways to create random number arrays:\n",
        "\n",
        "**rand**\n",
        "Create an array of the given shape and populate it with\n",
        "random samples from a uniform distribution\n",
        "over ``[0, 1)``"
      ],
      "metadata": {
        "id": "rcWZeigQlk6g"
      }
    },
    {
      "cell_type": "code",
      "source": [],
      "metadata": {
        "id": "aQTU8T07lppD"
      },
      "execution_count": null,
      "outputs": []
    },
    {
      "cell_type": "markdown",
      "source": [
        "### randn\n",
        "\n",
        "Return a sample (or samples) from the \"standard normal\" distribution. Unlike rand which is uniform:"
      ],
      "metadata": {
        "id": "ICZniscZlwSu"
      }
    },
    {
      "cell_type": "code",
      "source": [
        "np.random.randn(2)"
      ],
      "metadata": {
        "id": "i72E1hWHlxKe"
      },
      "execution_count": null,
      "outputs": []
    },
    {
      "cell_type": "markdown",
      "source": [
        "### randint\n",
        "Return random integers from `low` (inclusive) to `high` (exclusive)."
      ],
      "metadata": {
        "id": "_4n3pLxll5pt"
      }
    },
    {
      "cell_type": "code",
      "source": [],
      "metadata": {
        "id": "0cNktMnJl5U1"
      },
      "execution_count": null,
      "outputs": []
    },
    {
      "cell_type": "code",
      "source": [],
      "metadata": {
        "id": "Ru7A-a2il5Rk"
      },
      "execution_count": null,
      "outputs": []
    },
    {
      "cell_type": "markdown",
      "source": [
        "### NumPy Indexing and Selection"
      ],
      "metadata": {
        "id": "yrBuO-_imr08"
      }
    },
    {
      "cell_type": "code",
      "source": [
        "#Creating sample array\n"
      ],
      "metadata": {
        "id": "oju2Lm57l5Od"
      },
      "execution_count": null,
      "outputs": []
    },
    {
      "cell_type": "code",
      "source": [
        "#Get a value at an index\n"
      ],
      "metadata": {
        "id": "6SrXE801m2Ml"
      },
      "execution_count": null,
      "outputs": []
    },
    {
      "cell_type": "code",
      "source": [
        "#Get values in a range\n"
      ],
      "metadata": {
        "id": "frEnSul2m3fN"
      },
      "execution_count": null,
      "outputs": []
    },
    {
      "cell_type": "code",
      "source": [
        "#Get values in a range\n"
      ],
      "metadata": {
        "id": "LqUODNj2m3b3"
      },
      "execution_count": null,
      "outputs": []
    },
    {
      "cell_type": "code",
      "source": [
        "#Setting a value with index range (Broadcasting)\n",
        "\n",
        "\n",
        "#Show\n",
        "arr"
      ],
      "metadata": {
        "id": "4HQi7UJNm3Yc"
      },
      "execution_count": null,
      "outputs": []
    },
    {
      "cell_type": "code",
      "source": [
        "#Important notes on Slices\n",
        "\n",
        "\n",
        "#Show slice\n"
      ],
      "metadata": {
        "id": "Q623CTZonB_C"
      },
      "execution_count": null,
      "outputs": []
    },
    {
      "cell_type": "markdown",
      "source": [
        "###Boolean indexing"
      ],
      "metadata": {
        "id": "xP4wI-q-nnkM"
      }
    },
    {
      "cell_type": "code",
      "source": [
        "arr = np.arange(1,11)\n",
        "arr"
      ],
      "metadata": {
        "id": "9gMw1NjonB7d"
      },
      "execution_count": null,
      "outputs": []
    },
    {
      "cell_type": "code",
      "source": [
        "arr > 4"
      ],
      "metadata": {
        "id": "lk2nta_ynB3d"
      },
      "execution_count": null,
      "outputs": []
    },
    {
      "cell_type": "code",
      "source": [
        "bool_arr = arr>4"
      ],
      "metadata": {
        "id": "L-MGZ_MHnxqp"
      },
      "execution_count": null,
      "outputs": []
    },
    {
      "cell_type": "code",
      "source": [
        "arr[bool_arr]"
      ],
      "metadata": {
        "id": "-Wcr3CRsnxms"
      },
      "execution_count": null,
      "outputs": []
    },
    {
      "cell_type": "code",
      "source": [
        "arr[arr>2]"
      ],
      "metadata": {
        "id": "kxbJhYQInxi8"
      },
      "execution_count": null,
      "outputs": []
    },
    {
      "cell_type": "code",
      "source": [
        "x = 2\n",
        "arr[arr>x]"
      ],
      "metadata": {
        "id": "YSWHkKwGnxef"
      },
      "execution_count": null,
      "outputs": []
    },
    {
      "cell_type": "markdown",
      "source": [
        "### NumPy Operations"
      ],
      "metadata": {
        "id": "aSsGBC1zoTwL"
      }
    },
    {
      "cell_type": "code",
      "source": [
        "arr_op = np.arange(0,10)"
      ],
      "metadata": {
        "id": "9AXsy9bFn7vU"
      },
      "execution_count": null,
      "outputs": []
    },
    {
      "cell_type": "code",
      "source": [
        "arr_op + arr_op"
      ],
      "metadata": {
        "id": "okdj_Rf3n7rm"
      },
      "execution_count": null,
      "outputs": []
    },
    {
      "cell_type": "code",
      "source": [
        "arr_op*arr_op"
      ],
      "metadata": {
        "id": "r81qkuJin7oM"
      },
      "execution_count": null,
      "outputs": []
    },
    {
      "cell_type": "code",
      "source": [
        "arr_op - arr_op"
      ],
      "metadata": {
        "id": "BL6jucOboulL"
      },
      "execution_count": null,
      "outputs": []
    },
    {
      "cell_type": "code",
      "source": [],
      "metadata": {
        "id": "qjryy6IFougi"
      },
      "execution_count": null,
      "outputs": []
    },
    {
      "cell_type": "markdown",
      "source": [
        "----------------THANK YOU!-------------"
      ],
      "metadata": {
        "id": "kRpa35U5fbID"
      }
    },
    {
      "cell_type": "code",
      "source": [],
      "metadata": {
        "id": "lvGIASx1feU_"
      },
      "execution_count": null,
      "outputs": []
    }
  ]
}